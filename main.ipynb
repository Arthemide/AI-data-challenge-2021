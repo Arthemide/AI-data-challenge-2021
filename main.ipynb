{
 "cells": [
  {
   "cell_type": "code",
   "execution_count": 16,
   "metadata": {},
   "outputs": [],
   "source": [
    "import os\n",
    "import numpy as np\n",
    "\n",
    "import pandas as pd\n",
    "from sklearn import metrics\n",
    "\n",
    "from datetime import datetime"
   ]
  },
  {
   "cell_type": "code",
   "execution_count": 17,
   "metadata": {},
   "outputs": [],
   "source": [
    "df = pd.read_csv(\"./avatars_echOvid_train_X.csv\")"
   ]
  },
  {
   "cell_type": "code",
   "execution_count": 18,
   "metadata": {},
   "outputs": [
    {
     "name": "stdout",
     "output_type": "stream",
     "text": [
      "['id', 'Nom du centre', 'age', 'Sexe', 'Lieu de provenance du patient', 'Echographiste', 'Tabagisme actif', 'BPCO', 'Asthme', 'Autre antecedent respiratoire', 'Hypertension arterielle', 'Cardiopathie ischemique', 'Cardiopathie rythmique', 'Diabete de type 1', 'Diabete de type 2', 'Diabetes', 'Cancer  hemopathie maligne', 'Demence', 'Statut immunodeprime', \"AINS au long cours (dans le cadre d'une pathologie suivie)\", 'AINS ponctuel recent (cadre des symptomatologies COVID-19 suspect avere)', 'Tension arterielle systolique (mmHg)', 'Tension arterielle diastolique (mmHg)', 'Frequence cardiaque (puls. min)', 'Frequence respiratoire (resp. min)', 'Temperature (Celsius)', 'Confusion', 'Saturation O2', 'Date de debut de la symptomatologie', 'Zone anterieure droite haut', 'Zone anterieure droite bas', 'Zone anterieure gauche haut', 'Zone anterieure gauche bas', 'Zone posterieure droite haut', 'Zone posterieure droite bas', 'Zone posterieure gauche haut', 'Zone posterieure gauche bas', 'Oxygenotherapie', 'Outcome J28']\n"
     ]
    }
   ],
   "source": [
    "print(list(df.head()))"
   ]
  },
  {
   "cell_type": "code",
   "execution_count": 20,
   "metadata": {},
   "outputs": [],
   "source": [
    "from preprocess import pre_processing\n",
    "\n",
    "data = pre_processing(df)\n"
   ]
  },
  {
   "cell_type": "code",
   "execution_count": 21,
   "metadata": {},
   "outputs": [],
   "source": [
    "X = data[feature_cols]\n",
    "y = data['Outcome J28']"
   ]
  },
  {
   "cell_type": "code",
   "execution_count": 22,
   "metadata": {},
   "outputs": [],
   "source": [
    "# split X and y into training and testing sets\n",
    "from sklearn.model_selection import train_test_split\n",
    "X_train, X_test, y_train, y_test = train_test_split(X, y, random_state=0)"
   ]
  },
  {
   "cell_type": "code",
   "execution_count": 23,
   "metadata": {},
   "outputs": [],
   "source": [
    "from utils import fit, best_scores, get_pipeline, check_scores"
   ]
  },
  {
   "cell_type": "code",
   "execution_count": 24,
   "metadata": {},
   "outputs": [
    {
     "data": {
      "text/plain": [
       "Pipeline(steps=[('featureunion',\n",
       "                 FeatureUnion(transformer_list=[('features', SimpleImputer()),\n",
       "                                                ('indicators',\n",
       "                                                 MissingIndicator())])),\n",
       "                ('randomforestclassifier', RandomForestClassifier())])"
      ]
     },
     "execution_count": 24,
     "metadata": {},
     "output_type": "execute_result"
    }
   ],
   "source": [
    "from sklearn.linear_model import LogisticRegression\n",
    "\n",
    "lr_params = {\n",
    "    \"logisticregression__C\": [0.001, 0.01, 0.1, 1, 10, 100, 1000],\n",
    "    \"logisticregression__solver\": [\"lbfgs\", \"newton-cg\", \"sag\", \"saga\"],\n",
    "    \"logisticregression__penalty\": [\"l2\", 'none'],\n",
    "    \"logisticregression__max_iter\": [10000],\n",
    "}\n",
    "\n",
    "model = LogisticRegression()\n",
    "clf = get_pipeline(model)\n",
    "lr = fit(clf, lr_params, X, y, 20)\n",
    "best_scores(lr)"
   ]
  },
  {
   "cell_type": "code",
   "execution_count": 25,
   "metadata": {},
   "outputs": [],
   "source": [
    "# make class predictions for the testing set\n",
    "y_pred_class = clf.predict(X_test)"
   ]
  },
  {
   "cell_type": "code",
   "execution_count": 26,
   "metadata": {},
   "outputs": [
    {
     "name": "stdout",
     "output_type": "stream",
     "text": [
      "0.8484848484848485\n"
     ]
    }
   ],
   "source": [
    "print(metrics.accuracy_score(y_test, y_pred_class))"
   ]
  },
  {
   "cell_type": "code",
   "execution_count": 27,
   "metadata": {},
   "outputs": [
    {
     "data": {
      "text/plain": [
       "Back home              39\n",
       "Hospitalization        23\n",
       "Death                   2\n",
       "Intensive care unit     2\n",
       "Name: Outcome J28, dtype: int64"
      ]
     },
     "execution_count": 27,
     "metadata": {},
     "output_type": "execute_result"
    }
   ],
   "source": [
    "y_test.value_counts()"
   ]
  },
  {
   "cell_type": "code",
   "execution_count": 28,
   "metadata": {},
   "outputs": [
    {
     "name": "stdout",
     "output_type": "stream",
     "text": [
      "[[34  0  5  0]\n",
      " [ 0  0  2  0]\n",
      " [ 2  0 21  0]\n",
      " [ 0  0  1  1]]\n"
     ]
    }
   ],
   "source": [
    "print(metrics.confusion_matrix(y_test, y_pred_class))"
   ]
  },
  {
   "cell_type": "code",
   "execution_count": 29,
   "metadata": {},
   "outputs": [
    {
     "data": {
      "text/plain": [
       "194          Back home\n",
       "153    Hospitalization\n",
       "145          Back home\n",
       "8            Back home\n",
       "111          Back home\n",
       "            ...       \n",
       "184          Back home\n",
       "15     Hospitalization\n",
       "178          Back home\n",
       "96           Back home\n",
       "18               Death\n",
       "Name: Outcome J28, Length: 66, dtype: object"
      ]
     },
     "execution_count": 29,
     "metadata": {},
     "output_type": "execute_result"
    }
   ],
   "source": [
    "y_test"
   ]
  },
  {
   "cell_type": "code",
   "execution_count": 30,
   "metadata": {},
   "outputs": [
    {
     "data": {
      "text/html": [
       "<div>\n",
       "<style scoped>\n",
       "    .dataframe tbody tr th:only-of-type {\n",
       "        vertical-align: middle;\n",
       "    }\n",
       "\n",
       "    .dataframe tbody tr th {\n",
       "        vertical-align: top;\n",
       "    }\n",
       "\n",
       "    .dataframe thead th {\n",
       "        text-align: right;\n",
       "    }\n",
       "</style>\n",
       "<table border=\"1\" class=\"dataframe\">\n",
       "  <thead>\n",
       "    <tr style=\"text-align: right;\">\n",
       "      <th></th>\n",
       "      <th>prediction</th>\n",
       "    </tr>\n",
       "    <tr>\n",
       "      <th>id</th>\n",
       "      <th></th>\n",
       "    </tr>\n",
       "  </thead>\n",
       "  <tbody>\n",
       "    <tr>\n",
       "      <th>237</th>\n",
       "      <td>Back home</td>\n",
       "    </tr>\n",
       "    <tr>\n",
       "      <th>236</th>\n",
       "      <td>Hospitalization</td>\n",
       "    </tr>\n",
       "    <tr>\n",
       "      <th>253</th>\n",
       "      <td>Back home</td>\n",
       "    </tr>\n",
       "    <tr>\n",
       "      <th>92</th>\n",
       "      <td>Back home</td>\n",
       "    </tr>\n",
       "    <tr>\n",
       "      <th>53</th>\n",
       "      <td>Back home</td>\n",
       "    </tr>\n",
       "    <tr>\n",
       "      <th>...</th>\n",
       "      <td>...</td>\n",
       "    </tr>\n",
       "    <tr>\n",
       "      <th>151</th>\n",
       "      <td>Back home</td>\n",
       "    </tr>\n",
       "    <tr>\n",
       "      <th>39</th>\n",
       "      <td>Hospitalization</td>\n",
       "    </tr>\n",
       "    <tr>\n",
       "      <th>313</th>\n",
       "      <td>Back home</td>\n",
       "    </tr>\n",
       "    <tr>\n",
       "      <th>134</th>\n",
       "      <td>Back home</td>\n",
       "    </tr>\n",
       "    <tr>\n",
       "      <th>105</th>\n",
       "      <td>Hospitalization</td>\n",
       "    </tr>\n",
       "  </tbody>\n",
       "</table>\n",
       "<p>66 rows × 1 columns</p>\n",
       "</div>"
      ],
      "text/plain": [
       "          prediction\n",
       "id                  \n",
       "237        Back home\n",
       "236  Hospitalization\n",
       "253        Back home\n",
       "92         Back home\n",
       "53         Back home\n",
       "..               ...\n",
       "151        Back home\n",
       "39   Hospitalization\n",
       "313        Back home\n",
       "134        Back home\n",
       "105  Hospitalization\n",
       "\n",
       "[66 rows x 1 columns]"
      ]
     },
     "metadata": {},
     "output_type": "display_data"
    }
   ],
   "source": [
    "test_data = pd.read_csv(\"./avatars_echOvid_test_X.csv\")\n",
    "\n",
    "pre_processing(test_data)\n",
    "\n",
    "y_pred_class = clf.predict(X_test)\n",
    "\n",
    "result_dataFrame =pd.DataFrame({'id':test_data['id'],'prediction':y_pred_class})\n",
    "result_dataFrame = result_dataFrame.set_index('id')\n",
    "\n",
    "display(result_dataFrame)\n",
    "result_dataFrame.to_csv(\"./result.csv\", sep =';')"
   ]
  }
 ],
 "metadata": {
  "interpreter": {
   "hash": "8253a8006ffaefde1cc0bc9f6c6840c341162d1f8686047bf643240be44ad677"
  },
  "kernelspec": {
   "display_name": "Python 3.8.10 64-bit (windows store)",
   "language": "python",
   "name": "python3"
  },
  "language_info": {
   "codemirror_mode": {
    "name": "ipython",
    "version": 3
   },
   "file_extension": ".py",
   "mimetype": "text/x-python",
   "name": "python",
   "nbconvert_exporter": "python",
   "pygments_lexer": "ipython3",
   "version": "3.8.10"
  },
  "orig_nbformat": 4
 },
 "nbformat": 4,
 "nbformat_minor": 2
}
