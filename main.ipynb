{
 "cells": [
  {
   "cell_type": "code",
   "execution_count": 9,
   "metadata": {},
   "outputs": [],
   "source": [
    "import pandas as pd\n",
    "from sklearn.model_selection import train_test_split\n",
    "from sklearn.metrics import confusion_matrix\n",
    "import seaborn as sn\n",
    "\n",
    "from utils import test_model\n",
    "from preprocess import pre_processing, feature_cols"
   ]
  },
  {
   "cell_type": "code",
   "execution_count": 10,
   "metadata": {},
   "outputs": [],
   "source": [
    "df = pd.read_csv(\"./avatars_echOvid_train_X.csv\")"
   ]
  },
  {
   "cell_type": "code",
   "execution_count": 11,
   "metadata": {},
   "outputs": [],
   "source": [
    "# df.drop(34, inplace=True)\n",
    "# df.drop(87, inplace=True)\n",
    "# df.drop(88, inplace=True)\n",
    "\n",
    "data = pre_processing(df)\n",
    "\n",
    "X = data[feature_cols]\n",
    "y = data['Outcome J28']"
   ]
  },
  {
   "cell_type": "code",
   "execution_count": 12,
   "metadata": {},
   "outputs": [],
   "source": [
    "# Split X and y into training and testing sets\n",
    "X_train, X_test, y_train, y_test = train_test_split(X, y, random_state=0)"
   ]
  },
  {
   "cell_type": "code",
   "execution_count": null,
   "metadata": {},
   "outputs": [],
   "source": [
    "from sklearn.linear_model import LogisticRegression\n",
    "\n",
    "lr_params = {\n",
    "    \"logisticregression__C\": [0.001, 0.01, 0.1, 1, 10, 100, 1000],\n",
    "    \"logisticregression__solver\": [\"lbfgs\", \"newton-cg\", \"sag\", \"saga\"],\n",
    "    \"logisticregression__penalty\": [\"l2\", 'none'],\n",
    "    \"logisticregression__max_iter\": [10000],\n",
    "}\n",
    "\n",
    "lr = test_model(LogisticRegression(), lr_params, X_train, y_train, 20)"
   ]
  },
  {
   "cell_type": "code",
   "execution_count": null,
   "metadata": {},
   "outputs": [],
   "source": [
    "from sklearn.naive_bayes import GaussianNB\n",
    "\n",
    "gnb_params = {\n",
    "    \"gaussiannb__var_smoothing\": [1e-9, 1e-8, 1e-7, 1e-6, 1e-5, 1e-4, 1e-3, 1e-2, 1e-1, 1, 10, 100, 1000]\n",
    "}\n",
    "\n",
    "gnb = test_model(GaussianNB(), gnb_params, X_train, y_train, 20)"
   ]
  },
  {
   "cell_type": "code",
   "execution_count": null,
   "metadata": {},
   "outputs": [],
   "source": [
    "from sklearn.neighbors import KNeighborsClassifier\n",
    "\n",
    "knns_params = {\n",
    "    \"kneighborsclassifier__n_neighbors\": [1, 2, 3, 4, 5, 6, 7, 8, 9, 10, 11, 12, 13, 14, 15, 16, 17, 18, 19, 20],\n",
    "    \"kneighborsclassifier__weights\": ['uniform', 'distance'],\n",
    "    \"kneighborsclassifier__algorithm\": ['auto', 'ball_tree', 'kd_tree', 'brute'],\n",
    "}\n",
    "\n",
    "knns = test_model(KNeighborsClassifier(), knns_params, X_train, y_train, 20)"
   ]
  },
  {
   "cell_type": "code",
   "execution_count": null,
   "metadata": {},
   "outputs": [],
   "source": [
    "from sklearn.tree import DecisionTreeClassifier\n",
    "\n",
    "dt_params = {\n",
    "    \"decisiontreeclassifier__criterion\": ['gini', 'entropy'],\n",
    "    \"decisiontreeclassifier__splitter\": ['best', 'random'],\n",
    "    \"decisiontreeclassifier__max_depth\": [1, 2, 3, 4, 5, 6, 7, 8, 9, 10, 11, 12, 13, 14, 15, 16, 17, 18, 19, 20],\n",
    "    \"decisiontreeclassifier__min_samples_split\": [2, 3, 4, 5, 6, 7, 8, 9, 10],\n",
    "    \"decisiontreeclassifier__min_samples_leaf\": [1, 2, 3, 4, 5, 6, 7, 8, 9, 10],\n",
    "    \"decisiontreeclassifier__max_features\": ['auto', 'sqrt', 'log2'],\n",
    "}\n",
    "\n",
    "dt = test_model(DecisionTreeClassifier(), dt_params, X_train, y_train, 20)"
   ]
  },
  {
   "cell_type": "code",
   "execution_count": 13,
   "metadata": {},
   "outputs": [
    {
     "name": "stdout",
     "output_type": "stream",
     "text": [
      "Fitting 20 folds for each of 1 candidates, totalling 20 fits\n",
      "The best parameters are: {'randomforestclassifier__criterion': 'gini', 'randomforestclassifier__max_depth': 100, 'randomforestclassifier__min_samples_leaf': 1, 'randomforestclassifier__min_samples_split': 2, 'randomforestclassifier__n_estimators': 50}\n",
      "The best score that we got is: 0.8892857142857145\n"
     ]
    }
   ],
   "source": [
    "from sklearn.ensemble import RandomForestClassifier\n",
    "\n",
    "rf_params = {\n",
    "    \"randomforestclassifier__criterion\": [\"gini\", \"entropy\"],\n",
    "    \"randomforestclassifier__max_depth\": [None, 5, 10, 20, 35, 50, 100, 200],\n",
    "    \"randomforestclassifier__min_samples_leaf\": [1, 2, 4, 6, 8],\n",
    "    \"randomforestclassifier__min_samples_split\": [2, 5, 10, 12],\n",
    "    \"randomforestclassifier__n_estimators\": [10, 25, 50, 75, 100, 200, 500],\n",
    "}\n",
    "\n",
    "rf = test_model(RandomForestClassifier(), rf_params, X, y, 20)"
   ]
  },
  {
   "cell_type": "code",
   "execution_count": null,
   "metadata": {},
   "outputs": [],
   "source": [
    "# The random forest classifier is the best model so we will use it for the final submission\n",
    "model = rf"
   ]
  },
  {
   "cell_type": "code",
   "execution_count": 8,
   "metadata": {},
   "outputs": [
    {
     "data": {
      "text/html": [
       "<div>\n",
       "<style scoped>\n",
       "    .dataframe tbody tr th:only-of-type {\n",
       "        vertical-align: middle;\n",
       "    }\n",
       "\n",
       "    .dataframe tbody tr th {\n",
       "        vertical-align: top;\n",
       "    }\n",
       "\n",
       "    .dataframe thead th {\n",
       "        text-align: right;\n",
       "    }\n",
       "</style>\n",
       "<table border=\"1\" class=\"dataframe\">\n",
       "  <thead>\n",
       "    <tr style=\"text-align: right;\">\n",
       "      <th></th>\n",
       "      <th>prediction</th>\n",
       "    </tr>\n",
       "    <tr>\n",
       "      <th>id</th>\n",
       "      <th></th>\n",
       "    </tr>\n",
       "  </thead>\n",
       "  <tbody>\n",
       "    <tr>\n",
       "      <th>237</th>\n",
       "      <td>Back home</td>\n",
       "    </tr>\n",
       "    <tr>\n",
       "      <th>236</th>\n",
       "      <td>Back home</td>\n",
       "    </tr>\n",
       "    <tr>\n",
       "      <th>253</th>\n",
       "      <td>Hospitalization</td>\n",
       "    </tr>\n",
       "    <tr>\n",
       "      <th>92</th>\n",
       "      <td>Back home</td>\n",
       "    </tr>\n",
       "    <tr>\n",
       "      <th>53</th>\n",
       "      <td>Hospitalization</td>\n",
       "    </tr>\n",
       "    <tr>\n",
       "      <th>...</th>\n",
       "      <td>...</td>\n",
       "    </tr>\n",
       "    <tr>\n",
       "      <th>151</th>\n",
       "      <td>Hospitalization</td>\n",
       "    </tr>\n",
       "    <tr>\n",
       "      <th>39</th>\n",
       "      <td>Back home</td>\n",
       "    </tr>\n",
       "    <tr>\n",
       "      <th>313</th>\n",
       "      <td>Back home</td>\n",
       "    </tr>\n",
       "    <tr>\n",
       "      <th>134</th>\n",
       "      <td>Hospitalization</td>\n",
       "    </tr>\n",
       "    <tr>\n",
       "      <th>105</th>\n",
       "      <td>Back home</td>\n",
       "    </tr>\n",
       "  </tbody>\n",
       "</table>\n",
       "<p>66 rows × 1 columns</p>\n",
       "</div>"
      ],
      "text/plain": [
       "          prediction\n",
       "id                  \n",
       "237        Back home\n",
       "236        Back home\n",
       "253  Hospitalization\n",
       "92         Back home\n",
       "53   Hospitalization\n",
       "..               ...\n",
       "151  Hospitalization\n",
       "39         Back home\n",
       "313        Back home\n",
       "134  Hospitalization\n",
       "105        Back home\n",
       "\n",
       "[66 rows x 1 columns]"
      ]
     },
     "metadata": {},
     "output_type": "display_data"
    }
   ],
   "source": [
    "# Creating csv file result\n",
    "test_data = pd.read_csv(\"./avatars_echOvid_test_X.csv\")\n",
    "\n",
    "X_test = pre_processing(test_data)[feature_cols]\n",
    "\n",
    "y_pred_class = model.predict(X_test)\n",
    "\n",
    "result_dataFrame =pd.DataFrame({'id':test_data['id'],'prediction':y_pred_class})\n",
    "result_dataFrame = result_dataFrame.set_index('id')\n",
    "\n",
    "display(result_dataFrame)\n",
    "result_dataFrame.to_csv(\"./result.csv\", sep =';')"
   ]
  }
 ],
 "metadata": {
  "interpreter": {
   "hash": "8253a8006ffaefde1cc0bc9f6c6840c341162d1f8686047bf643240be44ad677"
  },
  "kernelspec": {
   "display_name": "Python 3.8.10 64-bit (windows store)",
   "language": "python",
   "name": "python3"
  },
  "language_info": {
   "codemirror_mode": {
    "name": "ipython",
    "version": 3
   },
   "file_extension": ".py",
   "mimetype": "text/x-python",
   "name": "python",
   "nbconvert_exporter": "python",
   "pygments_lexer": "ipython3",
   "version": "3.8.10"
  },
  "orig_nbformat": 4
 },
 "nbformat": 4,
 "nbformat_minor": 2
}
